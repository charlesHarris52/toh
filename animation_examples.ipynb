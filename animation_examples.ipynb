{
 "cells": [
  {
   "cell_type": "markdown",
   "metadata": {},
   "source": [
    "# Animation Examples: background for students"
   ]
  },
  {
   "cell_type": "code",
   "execution_count": 1,
   "metadata": {},
   "outputs": [
    {
     "name": "stdout",
     "output_type": "stream",
     "text": [
      "Imports now done...\n"
     ]
    }
   ],
   "source": [
    "# Run this cell first to make accessible various libraries/modules, constants and functions \n",
    "from math import * \n",
    "from random import * \n",
    "import numpy as np\n",
    "import matplotlib.pyplot as plt\n",
    "import os, shutil, sys\n",
    "from datetime import date\n",
    "print(\"Imports now done...\")"
   ]
  },
  {
   "cell_type": "markdown",
   "metadata": {},
   "source": [
    "We will  run `pygame` using scripts interacting directly with the operating system. For this we need the following utility script `run_script`. "
   ]
  },
  {
   "cell_type": "code",
   "execution_count": 2,
   "metadata": {},
   "outputs": [],
   "source": [
    "# Also run this cell \n",
    "def run_script(name_script): \n",
    "    os.system('python ' + name_script + ' &> file_log.txt')\n",
    "    with open('file_log.txt') as file: \n",
    "        print(file.read())"
   ]
  },
  {
   "cell_type": "markdown",
   "metadata": {},
   "source": [
    "# Bouncing ball"
   ]
  },
  {
   "cell_type": "markdown",
   "metadata": {},
   "source": [
    "One of the simplest animations is that of a bouncing ball. Below is the content of the script file `bouncing_ball.py` which simulates a bouncing ball in rectangular room. \n",
    "```python\n",
    "import sys, pygame, random \n",
    "import numpy as np\n",
    "\n",
    "def get_command_line_input(min_vel_factor, max_vel_factor):\n",
    "    '''\n",
    "    Gets speed factor as command line input. If no command line input \n",
    "    given or this is of the wrong type or outside the interval \n",
    "    [min_vel_factor, max_vel_factor] then None is returned. Otherwise the \n",
    "    value give on the command line is returned. \n",
    "    '''\n",
    "    try:\n",
    "        assert len(sys.argv) == 2\n",
    "        vel_factor = int(sys.argv[1])\n",
    "        assert vel_factor >=  min_vel_factor and vel_factor<= max_vel_factor \n",
    "        return  vel_factor\n",
    "    except:\n",
    "        return None \n",
    "\n",
    "def bouncing_ball_main():\n",
    "    '''\n",
    "    Function simulating simple bouncing ball within a rectangular \n",
    "    room. Speed of ball can be adjusted by entering a speed factor \n",
    "    on the command line (e.g. python bouncing_ball 3 to use speed \n",
    "    factor 3 \n",
    "    '''\n",
    "    \n",
    "    # Randomised x direction \n",
    "    x_direction = random.choice([-1,1])\n",
    "    # Slightly randomised step sizes for x, y directions to vary simulations\n",
    "    x_step, y_step =  x_direction*random.randint(8,10), -random.randint(8,10)\n",
    "    min_speed_factor, max_speed_factor  = 1, 10\n",
    "    default_speed_factor = 5\n",
    "    screen_size = (screen_width, screen_height) = (800, 600)\n",
    "    white = (255,255,255)\n",
    "    ball_size = 30\n",
    "    x0, y0 = (screen_width - ball_size)/2, screen_height - ball_size\n",
    "\n",
    "    # The ball will start using speed_factor given from command line (or default used)\n",
    "    speed_factor = get_command_line_input(min_speed_factor,max_speed_factor)\n",
    "    # Case when no command line input given, or input was erroneous\n",
    "    if speed_factor is None:\n",
    "        speed_factor = default_speed_factor\n",
    "        print(\"\\nNo argument given,\", end = \" \")\n",
    "        print(\"or out of range [{},{}].\".format(min_speed_factor,max_speed_factor), end = \" \")\n",
    "        print(\" Using default speed factor: {}\".format(speed_factor))\n",
    "    # Case when speed_factor of correct type given on command line \n",
    "    else:\n",
    "        print(\"\\nUsing speed factor that you input:  {}\".format(speed_factor))\n",
    "\n",
    "    # For information for user \n",
    "    print(\"The forward horizontal step size is  x_step = {}\".format(x_step))\n",
    "    print(\"The forward vertical step size is    y_step = {}\".format(y_step))\n",
    "\n",
    "    # Used for the pause time in the animation while loop below\n",
    "    frames_per_second = 10 + 10*speed_factor\n",
    "    clock = pygame.time.Clock()\n",
    "\n",
    "    # Set up the animation     \n",
    "    pygame.init()\n",
    "    screen = pygame.display.set_mode(screen_size)\n",
    "    # Put the title and instructions for the animation in the title bar of the animation.\n",
    "    caption = 'Bouncing Ball'\n",
    "    caption += '                              '\n",
    "    caption += '(Keystroke:  \\'Space\\' to start or pause)'\n",
    "    pygame.display.set_caption(caption)\n",
    "    # We use an image file for the ball: must be in present working folder\n",
    "    ball = pygame.image.load(\"intro_ball.gif\")\n",
    "    # We resize the image object 'ball'\n",
    "    ball = pygame.transform.scale(ball, (ball_size, ball_size))\n",
    "    # The rectangle ball_rect is used for displaying the ball where (x0, y0)\n",
    "    # is the top left hand corner of the rectangle (and length of sides given) \n",
    "    ball_rect = pygame.Rect(x0,y0,ball_size,ball_size)\n",
    "\n",
    "    # Ball is motionless to start with \n",
    "    screen.fill(white)\n",
    "    # Overlay the ball image on screen \n",
    "    screen.blit(ball, ball_rect)\n",
    "    # Now re-initialise the display (to show the ball etc.) \n",
    "    pygame.display.flip()\n",
    "\n",
    "    # We keep going for ever in this program (until quit is input - e.g. Ctrl-Q - by user ).\n",
    "    keep_running = True\n",
    "    # Use the following  as switch to move the ball or not using the space bar.\n",
    "    move_ball = False\n",
    "\n",
    "    # Animation loop \n",
    "    while keep_running:\n",
    "        # If a keyboard event happens register it... \n",
    "        for event in pygame.event.get():\n",
    "            if event.type == pygame.QUIT:\n",
    "                keep_running = False\n",
    "            elif event.type == pygame.KEYDOWN and event.key == pygame.K_SPACE:\n",
    "                move_ball = not move_ball\n",
    "                \n",
    "        # Pressing the space bar changes the value of move_ball (see elif above)\n",
    "        # So you can toggle move/not move with the space bar\n",
    "        if move_ball:\n",
    "            # Move the ball a step \n",
    "            ball_rect.x += x_step\n",
    "            ball_rect.y += y_step\n",
    "            # Alternatively use use the following line \n",
    "            # ball_rect = ball_rect.move((x_step,y_step))\n",
    "            # The ball bounces when it hits an edge\n",
    "            if ball_rect.left < 0 or ball_rect.right > screen_width:\n",
    "                x_step = - x_step\n",
    "            if ball_rect.top < 0 or ball_rect.bottom > screen_height:\n",
    "                y_step = - y_step\n",
    "\n",
    "        # Redraw the screen \n",
    "        screen.fill(white)\n",
    "        # Redraw the ball \n",
    "        screen.blit(ball, ball_rect)\n",
    "        # Re-initialise the display t\n",
    "        pygame.display.flip()\n",
    "        # Wait a clock tick until starting next iteration of animation loop\n",
    "        clock.tick(frames_per_second)\n",
    "\n",
    "        \n",
    "    pygame.quit()\n",
    "    return None \n",
    "                \n",
    "if __name__ == '__main__': \n",
    "    bouncing_ball_main()\n",
    "```"
   ]
  },
  {
   "cell_type": "markdown",
   "metadata": {},
   "source": [
    "Now to run this script in a terminal you would execute the line \n",
    "```\n",
    "python bouncing_ball.py \n",
    "``` \n",
    "to run the animation at the default speed factor of `5`. To obtain the same effect here run the following cell. "
   ]
  },
  {
   "cell_type": "code",
   "execution_count": 3,
   "metadata": {},
   "outputs": [
    {
     "name": "stdout",
     "output_type": "stream",
     "text": [
      "pygame 2.1.2 (SDL 2.0.18, Python 3.7.3)\n",
      "Hello from the pygame community. https://www.pygame.org/contribute.html\n",
      "\n",
      "No argument given, or out of range [1,10].  Using default speed factor: 5\n",
      "The forward horizontal step size is  x_step = -10\n",
      "The forward vertical step size is    y_step = -10\n",
      "\n"
     ]
    }
   ],
   "source": [
    "run_script('bouncing_ball.py')"
   ]
  },
  {
   "cell_type": "markdown",
   "metadata": {},
   "source": [
    "Now, if you wanted to run the animation with speed factor `8` in a terminal you would run the line \n",
    "```\n",
    "python bouncing_ball.py 8\n",
    "``` \n",
    "i.e. with `8` as command line input. To obtain the same effect here run the following cell. "
   ]
  },
  {
   "cell_type": "code",
   "execution_count": 5,
   "metadata": {},
   "outputs": [
    {
     "name": "stdout",
     "output_type": "stream",
     "text": [
      "pygame 2.1.2 (SDL 2.0.18, Python 3.7.3)\n",
      "Hello from the pygame community. https://www.pygame.org/contribute.html\n",
      "\n",
      "Using speed factor that you input:  8\n",
      "The forward horizontal step size is  x_step = -8\n",
      "The forward vertical step size is    y_step = -10\n",
      "\n"
     ]
    }
   ],
   "source": [
    "run_script('bouncing_ball.py 8')"
   ]
  },
  {
   "cell_type": "markdown",
   "metadata": {},
   "source": [
    "In the project outline you are asked to further develop \n",
    "   `bouncing_ball.py` so as to  achieve the following. \n",
    "  1. The user should be able to change the original position of the ball\n",
    "  should be able to change the speed of a ball. \n",
    "  2. The ball should slow down under the effect of gravity.\n",
    "  3. Two or more balls bounce inside the same square (and off one another). \n",
    "\n",
    "**Note.** In terms of design: decide whether to develop the same script with (for example) the user being able to choose different options on the command line, or whether to develop a separate script in each case. \n",
    "\n",
    "The user should be able to run these scripts using `run_script`. "
   ]
  },
  {
   "cell_type": "markdown",
   "metadata": {},
   "source": [
    "# The Sierpinski Triangle \n",
    "\n",
    "Using `pygame` we can draw fractals in an interactive way. Below is the content of the script file `sierpinski.py` which draws the Sierpinski triangle up to a given depth. \n",
    "\n",
    "```python\n",
    "import sys, pygame\n",
    "\n",
    "def make_sierpinski(depth, triangle, triangle_list):\n",
    "    '''\n",
    "    Function inputs: depth (of recursion), triangle (vertex coordinates)\n",
    "    triangle_list (list of triange coordinates)\n",
    "    Modifies triangle_list: all the depth 1 (bottom) triangles are added \n",
    "    to this list (using recursion relative to the input triangle)\n",
    "    '''\n",
    "    (x0,y0) = triangle[0]\n",
    "    (x1,y1) = triangle[1]\n",
    "    (x2,y2) = triangle[2]\n",
    "    # Maximum depth reached (going down) so add this triangle to the list\n",
    "    if depth == 1:\n",
    "        triangle_list.append(triangle)\n",
    "        return None \n",
    "    # Otherwise split triangle into three sub triangles\n",
    "    midpoint_A = (x0 + (x1-x0)/2.0, y0)\n",
    "    midpoint_B = (x0 + (x2-x0)/2.0, y2 + (y0-y2)/2.0)\n",
    "    midpoint_C = (x2 + (x1-x2)/2.0, y2 + (y1-y2)/2.0)\n",
    "    # First triangle, recursive call on it\n",
    "    new_triangle = ((x0,y0), midpoint_A, midpoint_B)\n",
    "    make_sierpinski(depth-1, new_triangle, triangle_list)\n",
    "    # Second triangle, recursive call on it\n",
    "    new_triangle = (midpoint_A, (x1,y1), midpoint_C)\n",
    "    make_sierpinski(depth-1,new_triangle,triangle_list)\n",
    "    # Third triangle, recursive call on it\n",
    "    new_triangle = (midpoint_B, midpoint_C, (x2,y2))\n",
    "    make_sierpinski(depth-1, new_triangle, triangle_list)    \n",
    "    # No need for a return statement (personal preference) \n",
    "    return None\n",
    "\n",
    "def get_command_line_input(min_depth, max_depth):\n",
    "    '''\n",
    "    Gets depth as command line input. If no command line input \n",
    "    given or this is of the wrong type or outside the interval \n",
    "    [min_depth, max_depth] then None is returned. Otherwise the \n",
    "    value given on the command line is returned. \n",
    "    '''\n",
    "    try:\n",
    "        assert len(sys.argv) == 2\n",
    "        depth = int(sys.argv[1])\n",
    "        assert depth >=  min_depth  and depth <= max_depth\n",
    "        return  depth\n",
    "    except:\n",
    "        return None \n",
    "\n",
    "    \n",
    "def sierpinski_main():\n",
    "    '''\n",
    "    Function that draws the Sierpinski triangle as an animation. \n",
    "    The depth of the triangle (recursion) can be adjusted by entering \n",
    "    a depth integer value (in [1,10]) on the command line. \n",
    "    For example: python sierpinski.py 8 \n",
    "    '''\n",
    "    \n",
    "    dimensions = (900, 862)\n",
    "    backgroundColour = (255,255,255)\n",
    "    blue, black = (0,0,255), (0,0,0)\n",
    "    # This is the overall outline triangle\n",
    "    master_triangle = ((50,800),(850,800),(450,62))\n",
    "    min_depth, max_depth = 1, 10\n",
    "    default_depth = 6\n",
    "    speed_factor = 4\n",
    "    clock = pygame.time.Clock()\n",
    "    \n",
    "    # The depth is input from command line (or default used if no command line input)\n",
    "    depth = get_command_line_input(min_depth,max_depth)\n",
    "    # Case when no command line input given, or input was erroneous\n",
    "    if depth is None:\n",
    "        depth = default_depth\n",
    "        print(\"\\nNo argument given,\", end = \" \")\n",
    "        print(\"or out of range [{},{}].\".format(min_depth,max_depth), end = \" \")\n",
    "        print(\" Using default depth: {}\".format(depth))\n",
    "    # Case when depth of correct type given on command line \n",
    "    else:\n",
    "        print(\"\\nUsing depth that you input:  {}\".format(depth))\n",
    "\n",
    "    # Defines the speed of the animation (see the animation loop) \n",
    "    frames_per_second = 20  + 10 * speed_factor\n",
    "    # Make a list of all the triangle vertex coordinates of the given \n",
    "    # depth (in make_sierpinski we process  depth to work down to 1)\n",
    "    triangle_list = []\n",
    "    make_sierpinski(depth,master_triangle,triangle_list)\n",
    "\n",
    "    # Initialise pygame and the screen display object and title\n",
    "    pygame.init()\n",
    "    screen = pygame.display.set_mode(dimensions)\n",
    "    # Put the title and instructions for the animation in the title bar of the animation.\n",
    "    caption = 'Sierpinski Triangle            '\n",
    "    caption += '(1)  \\'Space\\' to start or pause    '\n",
    "    caption += '(2)  Further keystroke instruction here?'\n",
    "    pygame.display.set_caption(caption)\n",
    "\n",
    "    # Initialise the display \n",
    "    screen.fill(backgroundColour)\n",
    "    pygame.display.flip()\n",
    "\n",
    "    # Total number of triangles to be drawn \n",
    "    number_of_triangles = len(triangle_list)\n",
    "    index = 0\n",
    "    draw_triangle = False\n",
    "    keep_running = True\n",
    "\n",
    "    # Animation loop \n",
    "    while keep_running:\n",
    "        for event in pygame.event.get():\n",
    "            # Exit (at end of this iteration) using quit (e.g Ctrl-q or red button)\n",
    "            if event.type == pygame.QUIT:\n",
    "                keep_running = False\n",
    "            # Start and pause the animation with the space key \n",
    "            elif event.type == pygame.KEYDOWN and event.key == pygame.K_SPACE:\n",
    "                draw_triangle  = not draw_triangle \n",
    "\n",
    "        # Keep draw next triangle with index 'index' if not told to pause and not complete\n",
    "        if draw_triangle and index  < number_of_triangles:\n",
    "            pygame.draw.polygon(screen, black, triangle_list[index], 1)\n",
    "            # Now update so that latest triangle is added \n",
    "            pygame.display.update()\n",
    "            # Pause time before next iteration starts: one clock tick  \n",
    "            clock.tick(frames_per_second)\n",
    "            # Index uptate: index walks through triangle_list indices\n",
    "            index += 1\n",
    "            \n",
    "    pygame.quit()\n",
    "    return None\n",
    "                  \n",
    "if __name__ == '__main__':\n",
    "    sierpinski_main()\n",
    "```"
   ]
  },
  {
   "cell_type": "markdown",
   "metadata": {},
   "source": [
    "Now to run this script in a terminal you would execute the line \n",
    "```\n",
    "python sierpinski.py \n",
    "``` \n",
    "to run the animation with default depth `6`. To obtain the same effect here run the following cell. "
   ]
  },
  {
   "cell_type": "code",
   "execution_count": 4,
   "metadata": {
    "scrolled": true
   },
   "outputs": [
    {
     "name": "stdout",
     "output_type": "stream",
     "text": [
      "pygame 2.1.2 (SDL 2.0.18, Python 3.7.3)\n",
      "Hello from the pygame community. https://www.pygame.org/contribute.html\n",
      "\n",
      "No argument given, or out of range [1,10].  Using default depth: 6\n",
      "\n"
     ]
    }
   ],
   "source": [
    "run_script('sierpinski.py')"
   ]
  },
  {
   "cell_type": "markdown",
   "metadata": {},
   "source": [
    "Now, if you wanted to run the animation with depth `9` in a terminal you would run the line \n",
    "```\n",
    "python sierpinski.py 9\n",
    "``` \n",
    "i.e. with `9` as command line input. To obtain the same effect here run the following cell. "
   ]
  },
  {
   "cell_type": "code",
   "execution_count": 6,
   "metadata": {},
   "outputs": [
    {
     "name": "stdout",
     "output_type": "stream",
     "text": [
      "pygame 2.1.2 (SDL 2.0.18, Python 3.7.3)\n",
      "Hello from the pygame community. https://www.pygame.org/contribute.html\n",
      "\n",
      "Using depth that you input:  8\n",
      "\n"
     ]
    }
   ],
   "source": [
    "run_script('sierpinski.py 8')"
   ]
  },
  {
   "cell_type": "markdown",
   "metadata": {},
   "source": [
    "In the project outline you are asked to develop `sierpinski.py` so that \n",
    "the user is also able to change the speed of  the animation. You should also add colours to the triangle drawing (either in the same or a different script). \n",
    "  \n",
    "The user should be able to run your script(s) using `run_script`. "
   ]
  }
 ],
 "metadata": {
  "kernelspec": {
   "display_name": "Python 3",
   "language": "python",
   "name": "python3"
  },
  "language_info": {
   "codemirror_mode": {
    "name": "ipython",
    "version": 3
   },
   "file_extension": ".py",
   "mimetype": "text/x-python",
   "name": "python",
   "nbconvert_exporter": "python",
   "pygments_lexer": "ipython3",
   "version": "3.7.3"
  }
 },
 "nbformat": 4,
 "nbformat_minor": 4
}
